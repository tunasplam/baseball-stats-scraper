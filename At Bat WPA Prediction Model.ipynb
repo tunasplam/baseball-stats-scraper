{
 "cells": [
  {
   "cell_type": "code",
   "execution_count": 3,
   "id": "0e7d1a82",
   "metadata": {},
   "outputs": [],
   "source": [
    "from Utils.Constants import Constants\n",
    "from Utils.Database_Driver import Database_Driver\n",
    "import pandas as pd\n",
    "import seaborn as sns\n",
    "import matplotlib.pyplot as plt\n",
    "%matplotlib inline\n",
    "import numpy as np\n",
    "\n",
    "import re\n",
    "\n",
    "season = 2017"
   ]
  },
  {
   "cell_type": "markdown",
   "id": "01e94c09",
   "metadata": {},
   "source": [
    "The overall goal of this project is to predict whether or not an at bat will have a 'significant' impact on the course of the game. To do this, WPA (Win Probability Added) will be set as the target variable. <br>\n",
    "\n",
    "First, several tables need to be pulled from the database and joined. Several features will need to be cleaned up, and several features will need to be engineered. <br>"
   ]
  },
  {
   "cell_type": "code",
   "execution_count": 4,
   "id": "3ad7244f",
   "metadata": {},
   "outputs": [],
   "source": [
    "db = Database_Driver(\"baseball.db\")\n",
    "sql = \"\"\"SELECT * FROM play_by_play WHERE season={};\"\"\".format(season)\n",
    "\n",
    "# df that holds the play by play statistics for each at bat in the season.\n",
    "pbp = db.select_to_df(sql)"
   ]
  },
  {
   "cell_type": "code",
   "execution_count": 5,
   "id": "39525425",
   "metadata": {},
   "outputs": [],
   "source": [
    "# basic information for each game in the season.\n",
    "sql = \"\"\"SELECT * FROM schedules WHERE season={}\"\"\".format(season)\n",
    "games = db.select_to_df(sql)"
   ]
  },
  {
   "cell_type": "markdown",
   "id": "1d0162a5",
   "metadata": {},
   "source": [
    "baseball reference stores WPA as wWPA (winning team Win Probability Added). In order to find the WPA, we need to determine which team won each game and adjust the losing team's wWPA (which will be negative) accordingly."
   ]
  },
  {
   "cell_type": "markdown",
   "id": "c7031b07",
   "metadata": {},
   "source": [
    "First we need to figure out who the pitching team is in each pbp row."
   ]
  },
  {
   "cell_type": "code",
   "execution_count": 6,
   "id": "650223c1",
   "metadata": {},
   "outputs": [],
   "source": [
    "def get_pitching_team(entry):\n",
    "    # batting team home team.\n",
    "    link = entry['boxscore_link']\n",
    "    batting_team = entry['batting_team']\n",
    "    \n",
    "    # this gives us the boxscore for the batting team.\n",
    "    # this means that opponent is always the pitching team.\n",
    "    tgames = games[(games['boxscore_link'] == link) &\n",
    "                   (games['team'] == batting_team)]\n",
    "    \n",
    "    return tgames['opponent'].item()"
   ]
  },
  {
   "cell_type": "code",
   "execution_count": 7,
   "id": "1b41b9d4",
   "metadata": {},
   "outputs": [],
   "source": [
    "pbp['pitching_team'] = pbp.apply(get_pitching_team, axis=1)"
   ]
  },
  {
   "cell_type": "markdown",
   "id": "63d302b3",
   "metadata": {},
   "source": [
    "Now we can engineer an 'eventual winner' column. We can figure this out again by looking at the boxscore. We care about if the pitching team wins. so if games[\"result\"] for the pitching team is \"W\", then pitching_team_wins is True."
   ]
  },
  {
   "cell_type": "code",
   "execution_count": 10,
   "id": "81077eb5",
   "metadata": {},
   "outputs": [],
   "source": [
    "def check_winner(entry):\n",
    "    link = entry['boxscore_link']\n",
    "    pitching_team = entry['pitching_team']\n",
    "    boxscore = games[(games['boxscore_link'] == link) &\n",
    "                     (games['team'] == pitching_team)]\n",
    "    \n",
    "    if \"W\" == boxscore[\"result\"].item():\n",
    "        return True\n",
    "    return False"
   ]
  },
  {
   "cell_type": "code",
   "execution_count": 11,
   "id": "37e64d97",
   "metadata": {},
   "outputs": [],
   "source": [
    "pbp['pitching_team_wins'] = pbp.apply(check_winner, axis=1)"
   ]
  },
  {
   "cell_type": "markdown",
   "id": "7e1017c0",
   "metadata": {},
   "source": [
    "Now that we know if the pitching team wins we can create a WPA column. If the pitching team loses, multiply wWPA by -1 to get the WPA."
   ]
  },
  {
   "cell_type": "code",
   "execution_count": 12,
   "id": "44428966",
   "metadata": {},
   "outputs": [],
   "source": [
    "def get_WPA(entry):\n",
    "    if not entry['pitching_team_wins']:\n",
    "        return entry['wWPA'] * -1\n",
    "    return entry['wWPA']"
   ]
  },
  {
   "cell_type": "code",
   "execution_count": 13,
   "id": "e8a695b9",
   "metadata": {},
   "outputs": [],
   "source": [
    "pbp['WPA'] = pbp.apply(get_WPA, axis=1)"
   ]
  },
  {
   "cell_type": "markdown",
   "id": "44ddee7b",
   "metadata": {},
   "source": [
    "Next feature to engineer: cumulative pitch count. This assumes that the entries in pbp are in chronological order (they are so in the database). "
   ]
  },
  {
   "cell_type": "code",
   "execution_count": 14,
   "id": "125c64e9",
   "metadata": {},
   "outputs": [],
   "source": [
    "pbp['cum_pitch_count'] = 0\n",
    "for i in range(1, len(pbp)):\n",
    "    # check to make sure the same pitcher AND the same game\n",
    "    if pbp.loc[i, \"link_to_pitcher\"] == pbp.loc[i-1, 'link_to_pitcher'] and \\\n",
    "       pbp.loc[i, \"boxscore_link\"] == pbp.loc[i-1, 'boxscore_link']:\n",
    "        pbp.loc[i, 'cum_pitch_count'] = pbp.loc[i-1, 'cum_pitch_count'] + \\\n",
    "            pbp.loc[i-1, 'pitches']\n"
   ]
  },
  {
   "cell_type": "markdown",
   "id": "a1b2dd1f",
   "metadata": {},
   "source": [
    "Engineer a flag for when theres runners on."
   ]
  },
  {
   "cell_type": "code",
   "execution_count": 16,
   "id": "16664921",
   "metadata": {},
   "outputs": [],
   "source": [
    "def check_runners_on(entry):\n",
    "    if entry['RoB'] == \"---\":\n",
    "        return False\n",
    "    return True"
   ]
  },
  {
   "cell_type": "code",
   "execution_count": 17,
   "id": "dc3ee0d8",
   "metadata": {},
   "outputs": [],
   "source": [
    "pbp['runners_on'] = pbp.apply(check_runners_on, axis=1)"
   ]
  },
  {
   "cell_type": "code",
   "execution_count": 18,
   "id": "307f0c23",
   "metadata": {},
   "outputs": [
    {
     "data": {
      "text/plain": [
       "False    105071\n",
       "True      86125\n",
       "Name: runners_on, dtype: int64"
      ]
     },
     "execution_count": 18,
     "metadata": {},
     "output_type": "execute_result"
    }
   ],
   "source": [
    "pbp['runners_on'].value_counts()"
   ]
  },
  {
   "cell_type": "markdown",
   "id": "3e4feb1d",
   "metadata": {},
   "source": [
    "Now create a scatter plot for the total season summed WPA for pitchers. Compare runners on and runners off situations."
   ]
  },
  {
   "cell_type": "code",
   "execution_count": 19,
   "id": "03fd6d5a",
   "metadata": {},
   "outputs": [],
   "source": [
    "# Grab the pitcher's tables so we can get the names of the pitchers.\n",
    "pitchers = db.select_to_df(\"SELECT player, player_link FROM player_pitching WHERE season={};\".format(season))"
   ]
  },
  {
   "cell_type": "code",
   "execution_count": 20,
   "id": "92b9446c",
   "metadata": {},
   "outputs": [
    {
     "data": {
      "text/html": [
       "<div>\n",
       "<style scoped>\n",
       "    .dataframe tbody tr th:only-of-type {\n",
       "        vertical-align: middle;\n",
       "    }\n",
       "\n",
       "    .dataframe tbody tr th {\n",
       "        vertical-align: top;\n",
       "    }\n",
       "\n",
       "    .dataframe thead th {\n",
       "        text-align: right;\n",
       "    }\n",
       "</style>\n",
       "<table border=\"1\" class=\"dataframe\">\n",
       "  <thead>\n",
       "    <tr style=\"text-align: right;\">\n",
       "      <th></th>\n",
       "      <th>sWPA Runners</th>\n",
       "      <th>sWPA No Runners</th>\n",
       "      <th>player</th>\n",
       "      <th>player_link</th>\n",
       "    </tr>\n",
       "  </thead>\n",
       "  <tbody>\n",
       "    <tr>\n",
       "      <th>0</th>\n",
       "      <td>357</td>\n",
       "      <td>-13</td>\n",
       "      <td>Corey Knebel</td>\n",
       "      <td>/players/k/knebeco01.shtml</td>\n",
       "    </tr>\n",
       "    <tr>\n",
       "      <th>1</th>\n",
       "      <td>350</td>\n",
       "      <td>-83</td>\n",
       "      <td>Drew Pomeranz</td>\n",
       "      <td>/players/p/pomerdr01.shtml</td>\n",
       "    </tr>\n",
       "    <tr>\n",
       "      <th>2</th>\n",
       "      <td>340</td>\n",
       "      <td>154</td>\n",
       "      <td>Kenley Jansen</td>\n",
       "      <td>/players/j/janseke01.shtml</td>\n",
       "    </tr>\n",
       "    <tr>\n",
       "      <th>3</th>\n",
       "      <td>296</td>\n",
       "      <td>132</td>\n",
       "      <td>Brad Hand</td>\n",
       "      <td>/players/h/handbr01.shtml</td>\n",
       "    </tr>\n",
       "    <tr>\n",
       "      <th>4</th>\n",
       "      <td>287</td>\n",
       "      <td>88</td>\n",
       "      <td>Craig Kimbrel</td>\n",
       "      <td>/players/k/kimbrcr01.shtml</td>\n",
       "    </tr>\n",
       "    <tr>\n",
       "      <th>...</th>\n",
       "      <td>...</td>\n",
       "      <td>...</td>\n",
       "      <td>...</td>\n",
       "      <td>...</td>\n",
       "    </tr>\n",
       "    <tr>\n",
       "      <th>822</th>\n",
       "      <td>-217</td>\n",
       "      <td>14</td>\n",
       "      <td>Jesse Chavez</td>\n",
       "      <td>/players/c/chaveje01.shtml</td>\n",
       "    </tr>\n",
       "    <tr>\n",
       "      <th>823</th>\n",
       "      <td>-229</td>\n",
       "      <td>163</td>\n",
       "      <td>Roberto Osuna</td>\n",
       "      <td>/players/o/osunaro01.shtml</td>\n",
       "    </tr>\n",
       "    <tr>\n",
       "      <th>824</th>\n",
       "      <td>-263</td>\n",
       "      <td>-30</td>\n",
       "      <td>Francisco Rodriguez</td>\n",
       "      <td>/players/r/rodrifr03.shtml</td>\n",
       "    </tr>\n",
       "    <tr>\n",
       "      <th>825</th>\n",
       "      <td>-303</td>\n",
       "      <td>-58</td>\n",
       "      <td>Ubaldo Jimenez</td>\n",
       "      <td>/players/j/jimenub01.shtml</td>\n",
       "    </tr>\n",
       "    <tr>\n",
       "      <th>826</th>\n",
       "      <td>-382</td>\n",
       "      <td>-72</td>\n",
       "      <td>Sam Dyson</td>\n",
       "      <td>/players/d/dysonsa01.shtml</td>\n",
       "    </tr>\n",
       "  </tbody>\n",
       "</table>\n",
       "<p>742 rows × 4 columns</p>\n",
       "</div>"
      ],
      "text/plain": [
       "     sWPA Runners  sWPA No Runners               player  \\\n",
       "0             357              -13         Corey Knebel   \n",
       "1             350              -83        Drew Pomeranz   \n",
       "2             340              154        Kenley Jansen   \n",
       "3             296              132            Brad Hand   \n",
       "4             287               88        Craig Kimbrel   \n",
       "..            ...              ...                  ...   \n",
       "822          -217               14         Jesse Chavez   \n",
       "823          -229              163        Roberto Osuna   \n",
       "824          -263              -30  Francisco Rodriguez   \n",
       "825          -303              -58       Ubaldo Jimenez   \n",
       "826          -382              -72            Sam Dyson   \n",
       "\n",
       "                    player_link  \n",
       "0    /players/k/knebeco01.shtml  \n",
       "1    /players/p/pomerdr01.shtml  \n",
       "2    /players/j/janseke01.shtml  \n",
       "3     /players/h/handbr01.shtml  \n",
       "4    /players/k/kimbrcr01.shtml  \n",
       "..                          ...  \n",
       "822  /players/c/chaveje01.shtml  \n",
       "823  /players/o/osunaro01.shtml  \n",
       "824  /players/r/rodrifr03.shtml  \n",
       "825  /players/j/jimenub01.shtml  \n",
       "826  /players/d/dysonsa01.shtml  \n",
       "\n",
       "[742 rows x 4 columns]"
      ]
     },
     "execution_count": 20,
     "metadata": {},
     "output_type": "execute_result"
    }
   ],
   "source": [
    "# compute the sum of the WPA for each pitcher over the seaons in runners-on situations\n",
    "df = pd.DataFrame(data=pbp[pbp['runners_on'] == True].groupby('link_to_pitcher')['WPA'].sum().sort_values(ascending=False))\n",
    "df = df.rename(columns={\"WPA\": \"sWPA Runners\"})\n",
    "\n",
    "# compute the sum of the WPA for each pitcher over the seaons in runners-off situations\n",
    "df2 = pd.DataFrame(data=pbp[pbp['runners_on'] == False].groupby('link_to_pitcher')['WPA'].sum().sort_values(ascending=False))\n",
    "df = df.merge(df2, on='link_to_pitcher')\n",
    "df = df.rename(columns={\"WPA\": \"sWPA No Runners\"})\n",
    "df = df.merge(pitchers, left_on='link_to_pitcher', right_on='player_link')\n",
    "\n",
    "# for some reason the merge for the pitcher names caused duplicates.\n",
    "# likely bc of players who were traded mid season.\n",
    "df = df.drop_duplicates()\n",
    "df"
   ]
  },
  {
   "cell_type": "markdown",
   "id": "4d2d8952",
   "metadata": {},
   "source": [
    "Here is the scatterplot. Pitchers in the upper right hand quadrant excel in both situations. Pitches in the lower left hand quadrant are bad in all situations. Kenley Jansen (CY award winner that season I believe) did quite well."
   ]
  },
  {
   "cell_type": "code",
   "execution_count": 21,
   "id": "168128ae",
   "metadata": {},
   "outputs": [
    {
     "data": {
      "image/png": "[encoded data removed]",
      "text/plain": [
       "<Figure size 432x288 with 1 Axes>"
      ]
     },
     "metadata": {
      "needs_background": "light"
     },
     "output_type": "display_data"
    }
   ],
   "source": [
    "sns.scatterplot(data=df, x='sWPA Runners', y='sWPA No Runners')\n",
    "\n",
    "# label 5 best pitchers with runners on\n",
    "temp = df.sort_values(by=\"sWPA Runners\", ascending=False)\n",
    "for i in range(5):\n",
    "    plt.text(temp.loc[i, \"sWPA Runners\"]+0.2,\n",
    "             temp.loc[i, \"sWPA No Runners\"]+0.2,\n",
    "             temp.loc[i, \"player\"])\n",
    "    \n",
    "# 5 best pitchers with runners off\n",
    "temp = df.sort_values(by=\"sWPA No Runners\", ascending=False)\n",
    "for i in range(5):\n",
    "    plt.text(temp.loc[i, \"sWPA Runners\"]+0.2,\n",
    "             temp.loc[i, \"sWPA No Runners\"]+0.2,\n",
    "             temp.loc[i, \"player\"])\n",
    "\n",
    "plt.show()"
   ]
  },
  {
   "cell_type": "markdown",
   "id": "680d3356",
   "metadata": {},
   "source": [
    "Time for some more EDA. Two entries had a NULL pitch count. Rather than figure that out, lets just drop them."
   ]
  },
  {
   "cell_type": "code",
   "execution_count": 22,
   "id": "48fecb73",
   "metadata": {},
   "outputs": [
    {
     "data": {
      "text/html": [
       "<div>\n",
       "<style scoped>\n",
       "    .dataframe tbody tr th:only-of-type {\n",
       "        vertical-align: middle;\n",
       "    }\n",
       "\n",
       "    .dataframe tbody tr th {\n",
       "        vertical-align: top;\n",
       "    }\n",
       "\n",
       "    .dataframe thead th {\n",
       "        text-align: right;\n",
       "    }\n",
       "</style>\n",
       "<table border=\"1\" class=\"dataframe\">\n",
       "  <thead>\n",
       "    <tr style=\"text-align: right;\">\n",
       "      <th></th>\n",
       "      <th>season</th>\n",
       "      <th>boxscore_link</th>\n",
       "      <th>inning</th>\n",
       "      <th>score</th>\n",
       "      <th>out</th>\n",
       "      <th>RoB</th>\n",
       "      <th>pitches</th>\n",
       "      <th>pitch_count</th>\n",
       "      <th>pitch_sequence</th>\n",
       "      <th>run_or_out</th>\n",
       "      <th>...</th>\n",
       "      <th>pitcher</th>\n",
       "      <th>link_to_pitcher</th>\n",
       "      <th>wWPA</th>\n",
       "      <th>wWE</th>\n",
       "      <th>description</th>\n",
       "      <th>pitching_team</th>\n",
       "      <th>pitching_team_wins</th>\n",
       "      <th>WPA</th>\n",
       "      <th>cum_pitch_count</th>\n",
       "      <th>runners_on</th>\n",
       "    </tr>\n",
       "  </thead>\n",
       "  <tbody>\n",
       "    <tr>\n",
       "      <th>37228</th>\n",
       "      <td>2017</td>\n",
       "      <td>/boxes/SEA/SEA201706100.shtml</td>\n",
       "      <td>t8</td>\n",
       "      <td>3-2</td>\n",
       "      <td>2</td>\n",
       "      <td>1--</td>\n",
       "      <td>NaN</td>\n",
       "      <td>NULL</td>\n",
       "      <td>NULL</td>\n",
       "      <td></td>\n",
       "      <td>...</td>\n",
       "      <td>Tony Zych</td>\n",
       "      <td>/players/z/zychto01.shtml</td>\n",
       "      <td>1</td>\n",
       "      <td>73</td>\n",
       "      <td>Bautista Steals 2B</td>\n",
       "      <td>SEA</td>\n",
       "      <td>False</td>\n",
       "      <td>-1</td>\n",
       "      <td>19.0</td>\n",
       "      <td>True</td>\n",
       "    </tr>\n",
       "    <tr>\n",
       "      <th>74582</th>\n",
       "      <td>2017</td>\n",
       "      <td>/boxes/MIN/MIN201709120.shtml</td>\n",
       "      <td>t9</td>\n",
       "      <td>0-16</td>\n",
       "      <td>2</td>\n",
       "      <td>1--</td>\n",
       "      <td>NaN</td>\n",
       "      <td>NULL</td>\n",
       "      <td>NULL</td>\n",
       "      <td></td>\n",
       "      <td>...</td>\n",
       "      <td>Gabriel Moya</td>\n",
       "      <td>/players/m/moyaga01.shtml</td>\n",
       "      <td>0</td>\n",
       "      <td>100</td>\n",
       "      <td>Balk; Myers to 2B</td>\n",
       "      <td>MIN</td>\n",
       "      <td>True</td>\n",
       "      <td>0</td>\n",
       "      <td>10.0</td>\n",
       "      <td>True</td>\n",
       "    </tr>\n",
       "  </tbody>\n",
       "</table>\n",
       "<p>2 rows × 23 columns</p>\n",
       "</div>"
      ],
      "text/plain": [
       "       season                  boxscore_link inning score  out  RoB  pitches  \\\n",
       "37228    2017  /boxes/SEA/SEA201706100.shtml     t8   3-2    2  1--      NaN   \n",
       "74582    2017  /boxes/MIN/MIN201709120.shtml     t9  0-16    2  1--      NaN   \n",
       "\n",
       "      pitch_count pitch_sequence run_or_out  ...       pitcher  \\\n",
       "37228        NULL           NULL             ...     Tony Zych   \n",
       "74582        NULL           NULL             ...  Gabriel Moya   \n",
       "\n",
       "                 link_to_pitcher wWPA  wWE         description  pitching_team  \\\n",
       "37228  /players/z/zychto01.shtml    1   73  Bautista Steals 2B            SEA   \n",
       "74582  /players/m/moyaga01.shtml    0  100   Balk; Myers to 2B            MIN   \n",
       "\n",
       "       pitching_team_wins WPA cum_pitch_count  runners_on  \n",
       "37228               False  -1            19.0        True  \n",
       "74582                True   0            10.0        True  \n",
       "\n",
       "[2 rows x 23 columns]"
      ]
     },
     "execution_count": 22,
     "metadata": {},
     "output_type": "execute_result"
    }
   ],
   "source": [
    "pbp[pbp['pitch_count'] == \"NULL\"]"
   ]
  },
  {
   "cell_type": "code",
   "execution_count": 23,
   "id": "caba3a0c",
   "metadata": {},
   "outputs": [],
   "source": [
    "pbp = pbp[pbp['pitch_count']  != \"NULL\"]"
   ]
  },
  {
   "cell_type": "markdown",
   "id": "7bd3751a",
   "metadata": {},
   "source": [
    "Some more EDA: check to see the average WPA for at bats with a particular pitch count. <br>\n",
    "Three pitchers counts: 0-2, 1-2, 2-2. All of them significantly pro pitcher.<br>\n",
    "0-1 is basically a wash.<br>\n",
    "3-2 slightly favors the hitter.<br>\n",
    "3-1 and 3-0 the wheels fall off for the pitcher"
   ]
  },
  {
   "cell_type": "code",
   "execution_count": 24,
   "id": "d72a7d33",
   "metadata": {},
   "outputs": [
    {
     "data": {
      "text/plain": [
       "pitch_count\n",
       "(0-2)    0.994953\n",
       "(1-2)    0.933716\n",
       "(2-2)    0.801506\n",
       "(0-1)   -0.280787\n",
       "(3-2)   -0.411173\n",
       "(1-1)   -0.440644\n",
       "(0-0)   -0.511062\n",
       "(1-0)   -0.541189\n",
       "(2-1)   -0.593308\n",
       "(2-0)   -0.708264\n",
       "(3-1)   -1.605602\n",
       "(3-0)   -1.922855\n",
       "Name: WPA, dtype: float64"
      ]
     },
     "execution_count": 24,
     "metadata": {},
     "output_type": "execute_result"
    }
   ],
   "source": [
    "pbp.groupby('pitch_count')['WPA'].mean().sort_values(ascending=False)"
   ]
  },
  {
   "cell_type": "markdown",
   "id": "c2423198",
   "metadata": {},
   "source": [
    "EDA: Does number of pitches/AB have any impact?"
   ]
  },
  {
   "cell_type": "code",
   "execution_count": 25,
   "id": "a65de77d",
   "metadata": {},
   "outputs": [
    {
     "data": {
      "text/plain": [
       "pitches\n",
       "1.0    -0.509477\n",
       "2.0    -0.391958\n",
       "3.0     0.101966\n",
       "4.0     0.278662\n",
       "5.0     0.192997\n",
       "6.0     0.095639\n",
       "7.0    -0.164360\n",
       "8.0    -0.256732\n",
       "9.0    -0.336735\n",
       "10.0   -0.151697\n",
       "11.0    0.497041\n",
       "12.0   -1.347222\n",
       "13.0    1.000000\n",
       "14.0   -4.222222\n",
       "15.0   -2.333333\n",
       "17.0    1.000000\n",
       "Name: WPA, dtype: float64"
      ]
     },
     "execution_count": 25,
     "metadata": {},
     "output_type": "execute_result"
    }
   ],
   "source": [
    "pbp.groupby('pitches')['WPA'].mean()"
   ]
  },
  {
   "cell_type": "markdown",
   "id": "da092fe7",
   "metadata": {},
   "source": [
    "1 pitch decidedly pro batter. 2 a little bit. 3 4 5 6 very very very slighly pro pitcher. anything more is either pro batter or a weird fluke outlier"
   ]
  },
  {
   "cell_type": "code",
   "execution_count": 26,
   "id": "9809cd49",
   "metadata": {},
   "outputs": [
    {
     "data": {
      "text/plain": [
       "pitches\n",
       "4.0      9822.0\n",
       "5.0      6151.0\n",
       "3.0      3500.0\n",
       "6.0      2114.0\n",
       "11.0       84.0\n",
       "13.0       21.0\n",
       "17.0        1.0\n",
       "15.0       -7.0\n",
       "14.0      -38.0\n",
       "10.0      -76.0\n",
       "12.0      -97.0\n",
       "9.0      -495.0\n",
       "8.0     -1001.0\n",
       "7.0     -1544.0\n",
       "1.0    -11021.0\n",
       "2.0    -11580.0\n",
       "Name: WPA, dtype: float64"
      ]
     },
     "execution_count": 26,
     "metadata": {},
     "output_type": "execute_result"
    }
   ],
   "source": [
    "(pbp.groupby('pitches')['WPA'].mean() * \\\n",
    " pbp.groupby('pitches')['WPA'].count()).sort_values(ascending=False)"
   ]
  },
  {
   "cell_type": "markdown",
   "id": "f8c524a0",
   "metadata": {},
   "source": [
    "More EDA: cumulative pitch count and WAP"
   ]
  },
  {
   "cell_type": "code",
   "execution_count": 27,
   "id": "54edd4e1",
   "metadata": {},
   "outputs": [
    {
     "data": {
      "text/plain": [
       "<AxesSubplot:xlabel='cum_pitch_count', ylabel='WPA'>"
      ]
     },
     "execution_count": 27,
     "metadata": {},
     "output_type": "execute_result"
    },
    {
     "data": {
      "image/png": "[encoded data removed]",
      "text/plain": [
       "<Figure size 432x288 with 1 Axes>"
      ]
     },
     "metadata": {
      "needs_background": "light"
     },
     "output_type": "display_data"
    }
   ],
   "source": [
    "sns.barplot(x=pbp['cum_pitch_count'], y=pbp.groupby('cum_pitch_count')['WPA'].mean())"
   ]
  },
  {
   "cell_type": "markdown",
   "id": "7a0cba58",
   "metadata": {},
   "source": [
    "Based on the above chart the cumulative pitch count is actually all over the place. I do not believe it will make much of an impact. UNLESS theres some sort of \"this pitcher starts to drop off after X amount of pitches\" kind of deal."
   ]
  },
  {
   "cell_type": "markdown",
   "id": "df7b4d8e",
   "metadata": {},
   "source": [
    "Create some dummy variables. pitch count and runners on base situations."
   ]
  },
  {
   "cell_type": "code",
   "execution_count": 28,
   "id": "70fef690",
   "metadata": {},
   "outputs": [],
   "source": [
    "pbp = pd.get_dummies(pbp, prefix='pc', columns=['pitch_count'])\n",
    "pbp = pd.get_dummies(pbp, prefix='rob', columns=['RoB'])"
   ]
  },
  {
   "cell_type": "markdown",
   "id": "e4b9f5cd",
   "metadata": {},
   "source": [
    "Time to import some pitcher and hitter stats. First, lets look at batter stats. Sum it up by looking at WAR. At first, looked at whole season WAR to see if there was any corellation. Looking at the whole season WAR during an at bat would constitute data leakage, but it ended up that the batter's WAR did not have any corelation with WPA for the at bat so I ended up not using the batter's WAR or the pitcher's ERA."
   ]
  },
  {
   "cell_type": "code",
   "execution_count": 31,
   "id": "ae9ccfea",
   "metadata": {},
   "outputs": [],
   "source": [
    "# oWAR -> offensive wins above replacement\n",
    "sql = \"\"\"SELECT player_link, oWAR\n",
    "FROM player_batter_values\n",
    "WHERE season={};\"\"\".format(season)\n",
    "\n",
    "bv = db.select_to_df(sql)\n",
    "\n",
    "pbp = pbp.merge(bv, 'left', left_on='link_to_batter',\n",
    "          right_on='player_link')"
   ]
  },
  {
   "cell_type": "markdown",
   "id": "d3490408",
   "metadata": {},
   "source": [
    "Checking for corelation between oWAR and WPA"
   ]
  },
  {
   "cell_type": "code",
   "execution_count": 32,
   "id": "51544bc1",
   "metadata": {},
   "outputs": [],
   "source": [
    "pbp = pbp[pbp['oWAR']  != \"\"]\n",
    "pbp['oWAR'] = pbp['oWAR'].astype('float')"
   ]
  },
  {
   "cell_type": "markdown",
   "id": "d6f4e1eb",
   "metadata": {},
   "source": [
    "Totally horizontal trend line."
   ]
  },
  {
   "cell_type": "code",
   "execution_count": 33,
   "id": "350fdefe",
   "metadata": {},
   "outputs": [
    {
     "data": {
      "text/plain": [
       "<seaborn.axisgrid.FacetGrid at 0x7f338cecbd60>"
      ]
     },
     "execution_count": 33,
     "metadata": {},
     "output_type": "execute_result"
    },
    {
     "data": {
      "image/png": "[encoded data removed]",
      "text/plain": [
       "<Figure size 360x360 with 1 Axes>"
      ]
     },
     "metadata": {
      "needs_background": "light"
     },
     "output_type": "display_data"
    }
   ],
   "source": [
    "sns.lmplot(data=pbp, x='oWAR', y='WPA')"
   ]
  },
  {
   "cell_type": "markdown",
   "id": "3b7b137c",
   "metadata": {},
   "source": [
    "Feature engineer a score difference column. This will be significant because tighter score margins will mean more significant at bats. First, need to figure out who the home team is for each at bat."
   ]
  },
  {
   "cell_type": "code",
   "execution_count": 34,
   "id": "d397858c",
   "metadata": {},
   "outputs": [],
   "source": [
    "def get_home_team(row):\n",
    "    # returns true if the pitching team is the home team.\n",
    "    # the row is an entry from pbp\n",
    "    tag = games[\n",
    "        (games['boxscore_link'] == row['boxscore_link']) &\n",
    "        (games['team'] == row['pitching_team'])\n",
    "    ]['home_or_vs'].values\n",
    "    if tag == '': \n",
    "        return True\n",
    "    return False"
   ]
  },
  {
   "cell_type": "code",
   "execution_count": 35,
   "id": "fff3fcbc",
   "metadata": {},
   "outputs": [],
   "source": [
    "pbp['pitching_team_home'] = pbp.apply(get_home_team, axis=1)"
   ]
  },
  {
   "cell_type": "code",
   "execution_count": 36,
   "id": "6970621c",
   "metadata": {},
   "outputs": [
    {
     "data": {
      "text/plain": [
       "True     105226\n",
       "False    101581\n",
       "Name: pitching_team_home, dtype: int64"
      ]
     },
     "execution_count": 36,
     "metadata": {},
     "output_type": "execute_result"
    }
   ],
   "source": [
    "pbp['pitching_team_home'].value_counts()"
   ]
  },
  {
   "cell_type": "code",
   "execution_count": 37,
   "id": "42e1bc2e",
   "metadata": {},
   "outputs": [],
   "source": [
    "def get_score_difference(row):\n",
    "    # - score means pitching team losing.\n",
    "    m = re.match(r'(\\d*)-(\\d*)', row['score'])\n",
    "    if row['pitching_team_home']:\n",
    "        batting_score = m.group(1)\n",
    "        pitching_score = m.group(2)\n",
    "    else:\n",
    "        pitching_score = m.group(1)\n",
    "        batting_score = m.group(2)\n",
    "    return int(pitching_score) - int(batting_score)"
   ]
  },
  {
   "cell_type": "code",
   "execution_count": 38,
   "id": "90a763bd",
   "metadata": {},
   "outputs": [],
   "source": [
    "pbp['score_difference'] = pbp.apply(get_score_difference, axis=1)"
   ]
  },
  {
   "cell_type": "markdown",
   "id": "b089c236",
   "metadata": {},
   "source": [
    "Our target variable is WPA so lets look at its distribution.<br>\n",
    "The top 25% is 2 WPA and above. The bottom 25% is -2 and below.\n"
   ]
  },
  {
   "cell_type": "code",
   "execution_count": 29,
   "id": "7b9d5638",
   "metadata": {},
   "outputs": [
    {
     "data": {
      "text/plain": [
       "<AxesSubplot:xlabel='WPA'>"
      ]
     },
     "execution_count": 29,
     "metadata": {},
     "output_type": "execute_result"
    },
    {
     "data": {
      "image/png": "[encoded data removed]",
      "text/plain": [
       "<Figure size 432x288 with 1 Axes>"
      ]
     },
     "metadata": {
      "needs_background": "light"
     },
     "output_type": "display_data"
    }
   ],
   "source": [
    "sns.boxplot(x=pbp['WPA'])"
   ]
  },
  {
   "cell_type": "code",
   "execution_count": 30,
   "id": "804868ba",
   "metadata": {},
   "outputs": [
    {
     "data": {
      "text/plain": [
       "count    191194.000000\n",
       "mean         -0.024216\n",
       "std           5.330774\n",
       "min         -90.000000\n",
       "25%          -2.000000\n",
       "50%           1.000000\n",
       "75%           2.000000\n",
       "max          60.000000\n",
       "Name: WPA, dtype: float64"
      ]
     },
     "execution_count": 30,
     "metadata": {},
     "output_type": "execute_result"
    }
   ],
   "source": [
    "pbp['WPA'].describe()"
   ]
  },
  {
   "cell_type": "markdown",
   "id": "3ddc20c9",
   "metadata": {},
   "source": [
    "Lets call at bats where $|WPA| > 2$ 'significant'. Then lets look for $|WPA| > 10$.<br>\n",
    "First, heres an overview of our data."
   ]
  },
  {
   "cell_type": "code",
   "execution_count": 39,
   "id": "b42a35bc",
   "metadata": {},
   "outputs": [
    {
     "data": {
      "text/html": [
       "<div>\n",
       "<style scoped>\n",
       "    .dataframe tbody tr th:only-of-type {\n",
       "        vertical-align: middle;\n",
       "    }\n",
       "\n",
       "    .dataframe tbody tr th {\n",
       "        vertical-align: top;\n",
       "    }\n",
       "\n",
       "    .dataframe thead th {\n",
       "        text-align: right;\n",
       "    }\n",
       "</style>\n",
       "<table border=\"1\" class=\"dataframe\">\n",
       "  <thead>\n",
       "    <tr style=\"text-align: right;\">\n",
       "      <th></th>\n",
       "      <th>0</th>\n",
       "      <th>1</th>\n",
       "      <th>2</th>\n",
       "    </tr>\n",
       "  </thead>\n",
       "  <tbody>\n",
       "    <tr>\n",
       "      <th>season</th>\n",
       "      <td>2017</td>\n",
       "      <td>2017</td>\n",
       "      <td>2017</td>\n",
       "    </tr>\n",
       "    <tr>\n",
       "      <th>boxscore_link</th>\n",
       "      <td>/boxes/TBA/TBA201704020.shtml</td>\n",
       "      <td>/boxes/TBA/TBA201704020.shtml</td>\n",
       "      <td>/boxes/TBA/TBA201704020.shtml</td>\n",
       "    </tr>\n",
       "    <tr>\n",
       "      <th>inning</th>\n",
       "      <td>t1</td>\n",
       "      <td>t1</td>\n",
       "      <td>t1</td>\n",
       "    </tr>\n",
       "    <tr>\n",
       "      <th>score</th>\n",
       "      <td>0-0</td>\n",
       "      <td>0-0</td>\n",
       "      <td>0-0</td>\n",
       "    </tr>\n",
       "    <tr>\n",
       "      <th>out</th>\n",
       "      <td>0</td>\n",
       "      <td>1</td>\n",
       "      <td>2</td>\n",
       "    </tr>\n",
       "    <tr>\n",
       "      <th>pitches</th>\n",
       "      <td>6.0</td>\n",
       "      <td>1.0</td>\n",
       "      <td>5.0</td>\n",
       "    </tr>\n",
       "    <tr>\n",
       "      <th>pitch_sequence</th>\n",
       "      <td>BCBCFX</td>\n",
       "      <td>X</td>\n",
       "      <td>CBBBB</td>\n",
       "    </tr>\n",
       "    <tr>\n",
       "      <th>run_or_out</th>\n",
       "      <td>O</td>\n",
       "      <td>O</td>\n",
       "      <td></td>\n",
       "    </tr>\n",
       "    <tr>\n",
       "      <th>batting_team</th>\n",
       "      <td>NYY</td>\n",
       "      <td>NYY</td>\n",
       "      <td>NYY</td>\n",
       "    </tr>\n",
       "    <tr>\n",
       "      <th>batter</th>\n",
       "      <td>Brett Gardner</td>\n",
       "      <td>Gary Sanchez</td>\n",
       "      <td>Greg Bird</td>\n",
       "    </tr>\n",
       "    <tr>\n",
       "      <th>link_to_batter</th>\n",
       "      <td>/players/g/gardnbr01.shtml</td>\n",
       "      <td>/players/s/sanchga02.shtml</td>\n",
       "      <td>/players/b/birdgr01.shtml</td>\n",
       "    </tr>\n",
       "    <tr>\n",
       "      <th>pitcher</th>\n",
       "      <td>Chris Archer</td>\n",
       "      <td>Chris Archer</td>\n",
       "      <td>Chris Archer</td>\n",
       "    </tr>\n",
       "    <tr>\n",
       "      <th>link_to_pitcher</th>\n",
       "      <td>/players/a/archech01.shtml</td>\n",
       "      <td>/players/a/archech01.shtml</td>\n",
       "      <td>/players/a/archech01.shtml</td>\n",
       "    </tr>\n",
       "    <tr>\n",
       "      <th>wWPA</th>\n",
       "      <td>2</td>\n",
       "      <td>2</td>\n",
       "      <td>-1</td>\n",
       "    </tr>\n",
       "    <tr>\n",
       "      <th>wWE</th>\n",
       "      <td>52</td>\n",
       "      <td>54</td>\n",
       "      <td>53</td>\n",
       "    </tr>\n",
       "    <tr>\n",
       "      <th>description</th>\n",
       "      <td>Flyball: LF (Short LF Line)</td>\n",
       "      <td>Groundout: P-1B</td>\n",
       "      <td>Walk</td>\n",
       "    </tr>\n",
       "    <tr>\n",
       "      <th>pitching_team</th>\n",
       "      <td>TBR</td>\n",
       "      <td>TBR</td>\n",
       "      <td>TBR</td>\n",
       "    </tr>\n",
       "    <tr>\n",
       "      <th>pitching_team_wins</th>\n",
       "      <td>True</td>\n",
       "      <td>True</td>\n",
       "      <td>True</td>\n",
       "    </tr>\n",
       "    <tr>\n",
       "      <th>WPA</th>\n",
       "      <td>2</td>\n",
       "      <td>2</td>\n",
       "      <td>-1</td>\n",
       "    </tr>\n",
       "    <tr>\n",
       "      <th>cum_pitch_count</th>\n",
       "      <td>0.0</td>\n",
       "      <td>6.0</td>\n",
       "      <td>7.0</td>\n",
       "    </tr>\n",
       "    <tr>\n",
       "      <th>runners_on</th>\n",
       "      <td>False</td>\n",
       "      <td>False</td>\n",
       "      <td>False</td>\n",
       "    </tr>\n",
       "    <tr>\n",
       "      <th>pc_(0-0)</th>\n",
       "      <td>0</td>\n",
       "      <td>1</td>\n",
       "      <td>0</td>\n",
       "    </tr>\n",
       "    <tr>\n",
       "      <th>pc_(0-1)</th>\n",
       "      <td>0</td>\n",
       "      <td>0</td>\n",
       "      <td>0</td>\n",
       "    </tr>\n",
       "    <tr>\n",
       "      <th>pc_(0-2)</th>\n",
       "      <td>0</td>\n",
       "      <td>0</td>\n",
       "      <td>0</td>\n",
       "    </tr>\n",
       "    <tr>\n",
       "      <th>pc_(1-0)</th>\n",
       "      <td>0</td>\n",
       "      <td>0</td>\n",
       "      <td>0</td>\n",
       "    </tr>\n",
       "    <tr>\n",
       "      <th>pc_(1-1)</th>\n",
       "      <td>0</td>\n",
       "      <td>0</td>\n",
       "      <td>0</td>\n",
       "    </tr>\n",
       "    <tr>\n",
       "      <th>pc_(1-2)</th>\n",
       "      <td>0</td>\n",
       "      <td>0</td>\n",
       "      <td>0</td>\n",
       "    </tr>\n",
       "    <tr>\n",
       "      <th>pc_(2-0)</th>\n",
       "      <td>0</td>\n",
       "      <td>0</td>\n",
       "      <td>0</td>\n",
       "    </tr>\n",
       "    <tr>\n",
       "      <th>pc_(2-1)</th>\n",
       "      <td>0</td>\n",
       "      <td>0</td>\n",
       "      <td>0</td>\n",
       "    </tr>\n",
       "    <tr>\n",
       "      <th>pc_(2-2)</th>\n",
       "      <td>1</td>\n",
       "      <td>0</td>\n",
       "      <td>0</td>\n",
       "    </tr>\n",
       "    <tr>\n",
       "      <th>pc_(3-0)</th>\n",
       "      <td>0</td>\n",
       "      <td>0</td>\n",
       "      <td>0</td>\n",
       "    </tr>\n",
       "    <tr>\n",
       "      <th>pc_(3-1)</th>\n",
       "      <td>0</td>\n",
       "      <td>0</td>\n",
       "      <td>1</td>\n",
       "    </tr>\n",
       "    <tr>\n",
       "      <th>pc_(3-2)</th>\n",
       "      <td>0</td>\n",
       "      <td>0</td>\n",
       "      <td>0</td>\n",
       "    </tr>\n",
       "    <tr>\n",
       "      <th>rob_---</th>\n",
       "      <td>1</td>\n",
       "      <td>1</td>\n",
       "      <td>1</td>\n",
       "    </tr>\n",
       "    <tr>\n",
       "      <th>rob_--3</th>\n",
       "      <td>0</td>\n",
       "      <td>0</td>\n",
       "      <td>0</td>\n",
       "    </tr>\n",
       "    <tr>\n",
       "      <th>rob_-2-</th>\n",
       "      <td>0</td>\n",
       "      <td>0</td>\n",
       "      <td>0</td>\n",
       "    </tr>\n",
       "    <tr>\n",
       "      <th>rob_-23</th>\n",
       "      <td>0</td>\n",
       "      <td>0</td>\n",
       "      <td>0</td>\n",
       "    </tr>\n",
       "    <tr>\n",
       "      <th>rob_1--</th>\n",
       "      <td>0</td>\n",
       "      <td>0</td>\n",
       "      <td>0</td>\n",
       "    </tr>\n",
       "    <tr>\n",
       "      <th>rob_1-3</th>\n",
       "      <td>0</td>\n",
       "      <td>0</td>\n",
       "      <td>0</td>\n",
       "    </tr>\n",
       "    <tr>\n",
       "      <th>rob_12-</th>\n",
       "      <td>0</td>\n",
       "      <td>0</td>\n",
       "      <td>0</td>\n",
       "    </tr>\n",
       "    <tr>\n",
       "      <th>rob_123</th>\n",
       "      <td>0</td>\n",
       "      <td>0</td>\n",
       "      <td>0</td>\n",
       "    </tr>\n",
       "    <tr>\n",
       "      <th>player_link</th>\n",
       "      <td>/players/g/gardnbr01.shtml</td>\n",
       "      <td>/players/s/sanchga02.shtml</td>\n",
       "      <td>/players/b/birdgr01.shtml</td>\n",
       "    </tr>\n",
       "    <tr>\n",
       "      <th>oWAR</th>\n",
       "      <td>2.9</td>\n",
       "      <td>4.1</td>\n",
       "      <td>0.1</td>\n",
       "    </tr>\n",
       "    <tr>\n",
       "      <th>pitching_team_home</th>\n",
       "      <td>True</td>\n",
       "      <td>True</td>\n",
       "      <td>True</td>\n",
       "    </tr>\n",
       "    <tr>\n",
       "      <th>score_difference</th>\n",
       "      <td>0</td>\n",
       "      <td>0</td>\n",
       "      <td>0</td>\n",
       "    </tr>\n",
       "  </tbody>\n",
       "</table>\n",
       "</div>"
      ],
      "text/plain": [
       "                                                0  \\\n",
       "season                                       2017   \n",
       "boxscore_link       /boxes/TBA/TBA201704020.shtml   \n",
       "inning                                         t1   \n",
       "score                                         0-0   \n",
       "out                                             0   \n",
       "pitches                                       6.0   \n",
       "pitch_sequence                             BCBCFX   \n",
       "run_or_out                                      O   \n",
       "batting_team                                  NYY   \n",
       "batter                              Brett Gardner   \n",
       "link_to_batter         /players/g/gardnbr01.shtml   \n",
       "pitcher                              Chris Archer   \n",
       "link_to_pitcher        /players/a/archech01.shtml   \n",
       "wWPA                                            2   \n",
       "wWE                                            52   \n",
       "description           Flyball: LF (Short LF Line)   \n",
       "pitching_team                                 TBR   \n",
       "pitching_team_wins                           True   \n",
       "WPA                                             2   \n",
       "cum_pitch_count                               0.0   \n",
       "runners_on                                  False   \n",
       "pc_(0-0)                                        0   \n",
       "pc_(0-1)                                        0   \n",
       "pc_(0-2)                                        0   \n",
       "pc_(1-0)                                        0   \n",
       "pc_(1-1)                                        0   \n",
       "pc_(1-2)                                        0   \n",
       "pc_(2-0)                                        0   \n",
       "pc_(2-1)                                        0   \n",
       "pc_(2-2)                                        1   \n",
       "pc_(3-0)                                        0   \n",
       "pc_(3-1)                                        0   \n",
       "pc_(3-2)                                        0   \n",
       "rob_---                                         1   \n",
       "rob_--3                                         0   \n",
       "rob_-2-                                         0   \n",
       "rob_-23                                         0   \n",
       "rob_1--                                         0   \n",
       "rob_1-3                                         0   \n",
       "rob_12-                                         0   \n",
       "rob_123                                         0   \n",
       "player_link            /players/g/gardnbr01.shtml   \n",
       "oWAR                                          2.9   \n",
       "pitching_team_home                           True   \n",
       "score_difference                                0   \n",
       "\n",
       "                                                1  \\\n",
       "season                                       2017   \n",
       "boxscore_link       /boxes/TBA/TBA201704020.shtml   \n",
       "inning                                         t1   \n",
       "score                                         0-0   \n",
       "out                                             1   \n",
       "pitches                                       1.0   \n",
       "pitch_sequence                                  X   \n",
       "run_or_out                                      O   \n",
       "batting_team                                  NYY   \n",
       "batter                               Gary Sanchez   \n",
       "link_to_batter         /players/s/sanchga02.shtml   \n",
       "pitcher                              Chris Archer   \n",
       "link_to_pitcher        /players/a/archech01.shtml   \n",
       "wWPA                                            2   \n",
       "wWE                                            54   \n",
       "description                       Groundout: P-1B   \n",
       "pitching_team                                 TBR   \n",
       "pitching_team_wins                           True   \n",
       "WPA                                             2   \n",
       "cum_pitch_count                               6.0   \n",
       "runners_on                                  False   \n",
       "pc_(0-0)                                        1   \n",
       "pc_(0-1)                                        0   \n",
       "pc_(0-2)                                        0   \n",
       "pc_(1-0)                                        0   \n",
       "pc_(1-1)                                        0   \n",
       "pc_(1-2)                                        0   \n",
       "pc_(2-0)                                        0   \n",
       "pc_(2-1)                                        0   \n",
       "pc_(2-2)                                        0   \n",
       "pc_(3-0)                                        0   \n",
       "pc_(3-1)                                        0   \n",
       "pc_(3-2)                                        0   \n",
       "rob_---                                         1   \n",
       "rob_--3                                         0   \n",
       "rob_-2-                                         0   \n",
       "rob_-23                                         0   \n",
       "rob_1--                                         0   \n",
       "rob_1-3                                         0   \n",
       "rob_12-                                         0   \n",
       "rob_123                                         0   \n",
       "player_link            /players/s/sanchga02.shtml   \n",
       "oWAR                                          4.1   \n",
       "pitching_team_home                           True   \n",
       "score_difference                                0   \n",
       "\n",
       "                                                2  \n",
       "season                                       2017  \n",
       "boxscore_link       /boxes/TBA/TBA201704020.shtml  \n",
       "inning                                         t1  \n",
       "score                                         0-0  \n",
       "out                                             2  \n",
       "pitches                                       5.0  \n",
       "pitch_sequence                              CBBBB  \n",
       "run_or_out                                         \n",
       "batting_team                                  NYY  \n",
       "batter                                  Greg Bird  \n",
       "link_to_batter          /players/b/birdgr01.shtml  \n",
       "pitcher                              Chris Archer  \n",
       "link_to_pitcher        /players/a/archech01.shtml  \n",
       "wWPA                                           -1  \n",
       "wWE                                            53  \n",
       "description                                  Walk  \n",
       "pitching_team                                 TBR  \n",
       "pitching_team_wins                           True  \n",
       "WPA                                            -1  \n",
       "cum_pitch_count                               7.0  \n",
       "runners_on                                  False  \n",
       "pc_(0-0)                                        0  \n",
       "pc_(0-1)                                        0  \n",
       "pc_(0-2)                                        0  \n",
       "pc_(1-0)                                        0  \n",
       "pc_(1-1)                                        0  \n",
       "pc_(1-2)                                        0  \n",
       "pc_(2-0)                                        0  \n",
       "pc_(2-1)                                        0  \n",
       "pc_(2-2)                                        0  \n",
       "pc_(3-0)                                        0  \n",
       "pc_(3-1)                                        1  \n",
       "pc_(3-2)                                        0  \n",
       "rob_---                                         1  \n",
       "rob_--3                                         0  \n",
       "rob_-2-                                         0  \n",
       "rob_-23                                         0  \n",
       "rob_1--                                         0  \n",
       "rob_1-3                                         0  \n",
       "rob_12-                                         0  \n",
       "rob_123                                         0  \n",
       "player_link             /players/b/birdgr01.shtml  \n",
       "oWAR                                          0.1  \n",
       "pitching_team_home                           True  \n",
       "score_difference                                0  "
      ]
     },
     "execution_count": 39,
     "metadata": {},
     "output_type": "execute_result"
    }
   ],
   "source": [
    "pbp.head(3).T"
   ]
  },
  {
   "cell_type": "code",
   "execution_count": 40,
   "id": "1b5ab864",
   "metadata": {},
   "outputs": [],
   "source": [
    "pbp['significant'] = (abs(pbp['WPA']) >= 2)\n",
    "pbp = pbp.dropna()"
   ]
  },
  {
   "cell_type": "code",
   "execution_count": 41,
   "id": "052625f0",
   "metadata": {},
   "outputs": [],
   "source": [
    "# drop columns that are useless or may cause data leakage.\n",
    "to_drop = ['season', 'boxscore_link', 'inning', 'score', 'pitch_sequence', \n",
    "          'run_or_out', 'batting_team', 'batter', 'link_to_batter',\n",
    "          'pitcher', 'link_to_pitcher', 'wWPA', 'wWE', 'description',\n",
    "          'pitching_team', 'pitching_team_wins', 'WPA', 'player_link', 'significant']\n",
    "X = set(pbp.columns)\n",
    "X = list(X.difference(to_drop))\n",
    "Y = np.array(['significant'])"
   ]
  },
  {
   "cell_type": "code",
   "execution_count": 43,
   "id": "d45e7548",
   "metadata": {},
   "outputs": [],
   "source": [
    "from sklearn.model_selection import train_test_split"
   ]
  },
  {
   "cell_type": "code",
   "execution_count": 44,
   "id": "36481c19",
   "metadata": {},
   "outputs": [],
   "source": [
    "xtrain, xtest, ytrain, ytest = train_test_split(pbp[X], pbp[Y], random_state=0)"
   ]
  },
  {
   "cell_type": "code",
   "execution_count": 45,
   "id": "6e5f1af2",
   "metadata": {},
   "outputs": [],
   "source": [
    "from sklearn.ensemble import RandomForestClassifier"
   ]
  },
  {
   "cell_type": "code",
   "execution_count": 46,
   "id": "d4ac1193",
   "metadata": {},
   "outputs": [
    {
     "name": "stderr",
     "output_type": "stream",
     "text": [
      "/tmp/ipykernel_12413/560660069.py:2: DataConversionWarning: A column-vector y was passed when a 1d array was expected. Please change the shape of y to (n_samples,), for example using ravel().\n",
      "  forest.fit(xtrain, ytrain)\n"
     ]
    },
    {
     "data": {
      "text/plain": [
       "RandomForestClassifier(random_state=0)"
      ]
     },
     "execution_count": 46,
     "metadata": {},
     "output_type": "execute_result"
    }
   ],
   "source": [
    "forest = RandomForestClassifier(n_estimators=100, random_state=0)\n",
    "forest.fit(xtrain, ytrain)"
   ]
  },
  {
   "cell_type": "code",
   "execution_count": 47,
   "id": "8b389be7",
   "metadata": {},
   "outputs": [
    {
     "data": {
      "text/plain": [
       "0.9978291207939215"
      ]
     },
     "execution_count": 47,
     "metadata": {},
     "output_type": "execute_result"
    }
   ],
   "source": [
    "forest.score(xtrain, ytrain)"
   ]
  },
  {
   "cell_type": "code",
   "execution_count": 48,
   "id": "8047fc77",
   "metadata": {},
   "outputs": [
    {
     "data": {
      "text/plain": [
       "0.9045365370224299"
      ]
     },
     "execution_count": 48,
     "metadata": {},
     "output_type": "execute_result"
    }
   ],
   "source": [
    "forest.score(xtest, ytest)"
   ]
  },
  {
   "cell_type": "markdown",
   "id": "5960c9cd",
   "metadata": {},
   "source": [
    "Pretty good accuracy. But its likely that its just looking at score difference and saying that all blowouts are for sure going to have $|WPA| < 2$"
   ]
  },
  {
   "cell_type": "code",
   "execution_count": 62,
   "id": "01e5aeb9",
   "metadata": {},
   "outputs": [
    {
     "data": {
      "text/plain": [
       "score_difference\n",
       " 0    0.240371\n",
       " 1    0.228994\n",
       " 2    0.143030\n",
       "-2    0.073747\n",
       " 4    0.069436\n",
       " 3    0.063641\n",
       "-4    0.046512\n",
       " 7    0.041185\n",
       " 8    0.032982\n",
       "-7    0.027318\n",
       "Name: WPA, dtype: float64"
      ]
     },
     "execution_count": 62,
     "metadata": {},
     "output_type": "execute_result"
    }
   ],
   "source": [
    "# yeah tighter margins have much higher impact.\n",
    "pbp.groupby('score_difference')['WPA'].mean().abs().sort_values(ascending=False).head(10)"
   ]
  },
  {
   "cell_type": "markdown",
   "id": "7d896d9a",
   "metadata": {},
   "source": [
    "Now try $|WPA|$ > 10. Still very good results."
   ]
  },
  {
   "cell_type": "code",
   "execution_count": 63,
   "id": "545dfe52",
   "metadata": {},
   "outputs": [],
   "source": [
    "pbp['significant'] = (abs(pbp['WPA']) >= 10)\n",
    "pbp = pbp.dropna()"
   ]
  },
  {
   "cell_type": "code",
   "execution_count": 64,
   "id": "4cbfa224",
   "metadata": {},
   "outputs": [],
   "source": [
    "# drop columns that are useless or may cause data leakage.\n",
    "to_drop = ['season', 'boxscore_link', 'inning', 'score', 'pitch_sequence', \n",
    "          'run_or_out', 'batting_team', 'batter', 'link_to_batter',\n",
    "          'pitcher', 'link_to_pitcher', 'wWPA', 'wWE', 'description',\n",
    "          'pitching_team', 'pitching_team_wins', 'WPA', 'player_link', 'significant']\n",
    "X = set(pbp.columns)\n",
    "X = list(X.difference(to_drop))\n",
    "Y = np.array(['significant'])"
   ]
  },
  {
   "cell_type": "code",
   "execution_count": 65,
   "id": "46fe9942",
   "metadata": {},
   "outputs": [],
   "source": [
    "xtrain, xtest, ytrain, ytest = train_test_split(pbp[X], pbp[Y], random_state=0)"
   ]
  },
  {
   "cell_type": "code",
   "execution_count": 66,
   "id": "05475880",
   "metadata": {},
   "outputs": [
    {
     "name": "stderr",
     "output_type": "stream",
     "text": [
      "/tmp/ipykernel_12413/560660069.py:2: DataConversionWarning: A column-vector y was passed when a 1d array was expected. Please change the shape of y to (n_samples,), for example using ravel().\n",
      "  forest.fit(xtrain, ytrain)\n"
     ]
    },
    {
     "data": {
      "text/plain": [
       "RandomForestClassifier(random_state=0)"
      ]
     },
     "execution_count": 66,
     "metadata": {},
     "output_type": "execute_result"
    }
   ],
   "source": [
    "forest = RandomForestClassifier(n_estimators=100, random_state=0)\n",
    "forest.fit(xtrain, ytrain)"
   ]
  },
  {
   "cell_type": "code",
   "execution_count": 67,
   "id": "f62a2c15",
   "metadata": {},
   "outputs": [
    {
     "data": {
      "text/plain": [
       "0.9972156114530732"
      ]
     },
     "execution_count": 67,
     "metadata": {},
     "output_type": "execute_result"
    }
   ],
   "source": [
    "forest.score(xtrain, ytrain)"
   ]
  },
  {
   "cell_type": "code",
   "execution_count": 68,
   "id": "b450d122",
   "metadata": {},
   "outputs": [
    {
     "data": {
      "text/plain": [
       "0.9371195113565115"
      ]
     },
     "execution_count": 68,
     "metadata": {},
     "output_type": "execute_result"
    }
   ],
   "source": [
    "forest.score(xtest, ytest)"
   ]
  },
  {
   "cell_type": "markdown",
   "id": "7b881985",
   "metadata": {},
   "source": [
    "I very briefly attempted to do a regressor to predict actual values of WPA. Did not do anyfeature selection or any CVGridSearches, only a brief attempt. The model overfit pretty poorly. The train data had an R^2 of .83 while the test data had a score of almost 0."
   ]
  }
 ],
 "metadata": {
  "kernelspec": {
   "display_name": "Python 3 (ipykernel)",
   "language": "python",
   "name": "python3"
  },
  "language_info": {
   "codemirror_mode": {
    "name": "ipython",
    "version": 3
   },
   "file_extension": ".py",
   "mimetype": "text/x-python",
   "name": "python",
   "nbconvert_exporter": "python",
   "pygments_lexer": "ipython3",
   "version": "3.10.2"
  }
 },
 "nbformat": 4,
 "nbformat_minor": 5
}
